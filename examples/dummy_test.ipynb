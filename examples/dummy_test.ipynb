{
 "cells": [
  {
   "cell_type": "code",
   "execution_count": 65,
   "metadata": {},
   "outputs": [],
   "source": [
    "import pandas as pd\n",
    "import sib"
   ]
  },
  {
   "cell_type": "markdown",
   "metadata": {},
   "source": [
    "# Load Data"
   ]
  },
  {
   "cell_type": "code",
   "execution_count": 66,
   "metadata": {},
   "outputs": [
    {
     "name": "stdout",
     "output_type": "stream",
     "text": [
      "Number of nodes: 4\n"
     ]
    },
    {
     "data": {
      "text/html": [
       "<div>\n",
       "<style scoped>\n",
       "    .dataframe tbody tr th:only-of-type {\n",
       "        vertical-align: middle;\n",
       "    }\n",
       "\n",
       "    .dataframe tbody tr th {\n",
       "        vertical-align: top;\n",
       "    }\n",
       "\n",
       "    .dataframe thead th {\n",
       "        text-align: right;\n",
       "    }\n",
       "</style>\n",
       "<table border=\"1\" class=\"dataframe\">\n",
       "  <thead>\n",
       "    <tr style=\"text-align: right;\">\n",
       "      <th></th>\n",
       "      <th>i</th>\n",
       "      <th>j</th>\n",
       "      <th>t</th>\n",
       "      <th>lambda</th>\n",
       "    </tr>\n",
       "  </thead>\n",
       "  <tbody>\n",
       "    <tr>\n",
       "      <th>0</th>\n",
       "      <td>2</td>\n",
       "      <td>3</td>\n",
       "      <td>0</td>\n",
       "      <td>0.1</td>\n",
       "    </tr>\n",
       "    <tr>\n",
       "      <th>1</th>\n",
       "      <td>3</td>\n",
       "      <td>2</td>\n",
       "      <td>0</td>\n",
       "      <td>0.1</td>\n",
       "    </tr>\n",
       "    <tr>\n",
       "      <th>2</th>\n",
       "      <td>1</td>\n",
       "      <td>2</td>\n",
       "      <td>0</td>\n",
       "      <td>0.1</td>\n",
       "    </tr>\n",
       "    <tr>\n",
       "      <th>3</th>\n",
       "      <td>2</td>\n",
       "      <td>1</td>\n",
       "      <td>0</td>\n",
       "      <td>0.1</td>\n",
       "    </tr>\n",
       "    <tr>\n",
       "      <th>4</th>\n",
       "      <td>2</td>\n",
       "      <td>1</td>\n",
       "      <td>1</td>\n",
       "      <td>0.1</td>\n",
       "    </tr>\n",
       "    <tr>\n",
       "      <th>5</th>\n",
       "      <td>1</td>\n",
       "      <td>2</td>\n",
       "      <td>1</td>\n",
       "      <td>0.1</td>\n",
       "    </tr>\n",
       "    <tr>\n",
       "      <th>6</th>\n",
       "      <td>0</td>\n",
       "      <td>1</td>\n",
       "      <td>3</td>\n",
       "      <td>0.1</td>\n",
       "    </tr>\n",
       "    <tr>\n",
       "      <th>7</th>\n",
       "      <td>1</td>\n",
       "      <td>0</td>\n",
       "      <td>3</td>\n",
       "      <td>0.1</td>\n",
       "    </tr>\n",
       "  </tbody>\n",
       "</table>\n",
       "</div>"
      ],
      "text/plain": [
       "   i  j  t  lambda\n",
       "0  2  3  0     0.1\n",
       "1  3  2  0     0.1\n",
       "2  1  2  0     0.1\n",
       "3  2  1  0     0.1\n",
       "4  2  1  1     0.1\n",
       "5  1  2  1     0.1\n",
       "6  0  1  3     0.1\n",
       "7  1  0  3     0.1"
      ]
     },
     "execution_count": 66,
     "metadata": {},
     "output_type": "execute_result"
    }
   ],
   "source": [
    "#contacts are directed, add the two directions for bidirectional contacts\n",
    "df_contacts = pd.read_csv(\"./data/dummy/transmissions.csv\")[[\"i\", \"j\", \"t\", \"lambda\"]]\n",
    "contacts = list(df_contacts.to_records(index=False))\n",
    "N = df_contacts[[\"i\", \"j\"]].max().max() + 1\n",
    "print(f\"Number of nodes: {N}\")\n",
    "df_contacts"
   ]
  },
  {
   "cell_type": "code",
   "execution_count": 67,
   "metadata": {},
   "outputs": [
    {
     "data": {
      "text/plain": [
       "[(3, 0, 0), (1, 1, 1), (3, 0, 1), (2, 1, 2)]"
      ]
     },
     "execution_count": 67,
     "metadata": {},
     "output_type": "execute_result"
    }
   ],
   "source": [
    "#observation S=0, I=1, R=2\n",
    "df_observ = pd.read_csv(\"./data/dummy/observations.csv\")\n",
    "observ = list(df_observ.to_records(index=False))\n",
    "observ"
   ]
  },
  {
   "cell_type": "markdown",
   "metadata": {},
   "source": [
    "## Generate the factor Graph"
   ]
  },
  {
   "cell_type": "markdown",
   "metadata": {},
   "source": [
    "Parameters of the SIR model used for inference"
   ]
  },
  {
   "cell_type": "code",
   "execution_count": 80,
   "metadata": {},
   "outputs": [],
   "source": [
    "mu = 1/10 #rate of recovery\n",
    "pseed = 1/N #probability to have sources\n",
    "params=sib.Params(prob_r=sib.Exponential(mu=mu), pseed=pseed)"
   ]
  },
  {
   "cell_type": "markdown",
   "metadata": {},
   "source": [
    "### Dummy observations for computing marginals\n",
    "We want to computer the marginal probabilities of each node to be S, I or R at time t=0 and t=3.\n",
    "\n",
    "We add dummy observations to the observations list.\n",
    "\n",
    "We force each node the have these times in the factor graph."
   ]
  },
  {
   "cell_type": "code",
   "execution_count": 81,
   "metadata": {},
   "outputs": [],
   "source": [
    "t1 = 0\n",
    "t2 = 3\n",
    "observ += [(i,-1,t1) for i in range(N)]\n",
    "observ += [(i,-1,t2) for i in range(N)]\n",
    "observ = list(sorted(observ, key=lambda x: x[2]))"
   ]
  },
  {
   "cell_type": "markdown",
   "metadata": {},
   "source": [
    "#### factor graph"
   ]
  },
  {
   "cell_type": "code",
   "execution_count": 82,
   "metadata": {},
   "outputs": [],
   "source": [
    "f = sib.FactorGraph(params=params,\n",
    "                    contacts=contacts, \n",
    "                    observations=observ\n",
    "                    )"
   ]
  },
  {
   "cell_type": "markdown",
   "metadata": {},
   "source": [
    "# Iterate the BP equations"
   ]
  },
  {
   "cell_type": "code",
   "execution_count": 83,
   "metadata": {},
   "outputs": [
    {
     "name": "stdout",
     "output_type": "stream",
     "text": [
      "sib.iterate(damp=0.0): 3/100 0.000e+00/0.0001      \n"
     ]
    }
   ],
   "source": [
    "sib.iterate(f, maxit=100, tol=0.0001)"
   ]
  },
  {
   "cell_type": "markdown",
   "metadata": {},
   "source": [
    "# Print the marginals"
   ]
  },
  {
   "cell_type": "code",
   "execution_count": 84,
   "metadata": {},
   "outputs": [
    {
     "name": "stdout",
     "output_type": "stream",
     "text": [
      "0 node:0 -- Marginals (S,I,R): (0.657, 0.310, 0.033)\n",
      "1 node:1 -- Marginals (S,I,R): (0.082, 0.918, 0.000)\n",
      "2 node:2 -- Marginals (S,I,R): (0.179, 0.821, 0.000)\n",
      "3 node:3 -- Marginals (S,I,R): (0.951, 0.000, 0.049)\n"
     ]
    }
   ],
   "source": [
    "#marginal at time 0\n",
    "for n in f.nodes:\n",
    "    m = sib.marginal_t(n, t1)\n",
    "    print(n.index, f\"node:{n.index} -- Marginals (S,I,R): ({m[0]:.3f}, {m[1]:.3f}, {m[2]:.3f})\")"
   ]
  },
  {
   "cell_type": "code",
   "execution_count": 85,
   "metadata": {},
   "outputs": [
    {
     "name": "stdout",
     "output_type": "stream",
     "text": [
      "0 node:0 -- Marginals (S,I,R): (0.657, 0.230, 0.113)\n",
      "1 node:1 -- Marginals (S,I,R): (0.000, 0.814, 0.186)\n",
      "2 node:2 -- Marginals (S,I,R): (0.000, 0.905, 0.095)\n",
      "3 node:3 -- Marginals (S,I,R): (0.947, -0.000, 0.053)\n"
     ]
    }
   ],
   "source": [
    "#marginal at time 3\n",
    "for n in f.nodes:\n",
    "    m = sib.marginal_t(n, t2)\n",
    "    print(n.index, f\"node:{n.index} -- Marginals (S,I,R): ({m[0]:.3f}, {m[1]:.3f}, {m[2]:.3f})\")"
   ]
  },
  {
   "cell_type": "code",
   "execution_count": null,
   "metadata": {},
   "outputs": [],
   "source": []
  }
 ],
 "metadata": {
  "kernelspec": {
   "display_name": "Python 3",
   "language": "python",
   "name": "python3"
  },
  "language_info": {
   "codemirror_mode": {
    "name": "ipython",
    "version": 3
   },
   "file_extension": ".py",
   "mimetype": "text/x-python",
   "name": "python",
   "nbconvert_exporter": "python",
   "pygments_lexer": "ipython3",
   "version": "3.8.5"
  }
 },
 "nbformat": 4,
 "nbformat_minor": 4
}
